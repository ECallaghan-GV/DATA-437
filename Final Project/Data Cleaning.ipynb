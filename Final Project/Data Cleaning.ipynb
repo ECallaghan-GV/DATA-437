{
 "cells": [
  {
   "cell_type": "markdown",
   "metadata": {},
   "source": [
    "# Final Project - Data Exploration\n",
    "\n",
    "# Evan Callaghan & Bryce Dean"
   ]
  },
  {
   "cell_type": "code",
   "execution_count": 266,
   "metadata": {},
   "outputs": [],
   "source": [
    "## Reading the csv file\n",
    "\n",
    "import pandas as pd\n",
    "import numpy as np\n",
    "\n",
    "nfl = pd.read_csv('spreadspoke_scores.csv')\n",
    "team_id_home = pd.read_csv('team_id.csv')\n",
    "team_id_away = pd.read_csv('team_id_away.csv')"
   ]
  },
  {
   "cell_type": "code",
   "execution_count": 267,
   "metadata": {},
   "outputs": [],
   "source": [
    "## Only considering NFL games from the 2010 to 2018 season\n",
    "\n",
    "nfl = nfl[(nfl['schedule_season'] >= 2010) & (nfl['schedule_season'] <= 2020)]"
   ]
  },
  {
   "cell_type": "code",
   "execution_count": 268,
   "metadata": {},
   "outputs": [
    {
     "data": {
      "text/html": [
       "<div>\n",
       "<style scoped>\n",
       "    .dataframe tbody tr th:only-of-type {\n",
       "        vertical-align: middle;\n",
       "    }\n",
       "\n",
       "    .dataframe tbody tr th {\n",
       "        vertical-align: top;\n",
       "    }\n",
       "\n",
       "    .dataframe thead th {\n",
       "        text-align: right;\n",
       "    }\n",
       "</style>\n",
       "<table border=\"1\" class=\"dataframe\">\n",
       "  <thead>\n",
       "    <tr style=\"text-align: right;\">\n",
       "      <th></th>\n",
       "      <th>schedule_date</th>\n",
       "      <th>schedule_season</th>\n",
       "      <th>schedule_week</th>\n",
       "      <th>schedule_playoff</th>\n",
       "      <th>team_home</th>\n",
       "      <th>score_home</th>\n",
       "      <th>score_away</th>\n",
       "      <th>team_away</th>\n",
       "      <th>team_favorite_id</th>\n",
       "      <th>spread_favorite</th>\n",
       "      <th>over_under_line</th>\n",
       "      <th>stadium</th>\n",
       "      <th>stadium_neutral</th>\n",
       "      <th>weather_temperature</th>\n",
       "      <th>weather_wind_mph</th>\n",
       "      <th>weather_humidity</th>\n",
       "      <th>weather_detail</th>\n",
       "    </tr>\n",
       "  </thead>\n",
       "  <tbody>\n",
       "    <tr>\n",
       "      <th>10008</th>\n",
       "      <td>9/9/2010</td>\n",
       "      <td>2010</td>\n",
       "      <td>1</td>\n",
       "      <td>False</td>\n",
       "      <td>New Orleans Saints</td>\n",
       "      <td>14.0</td>\n",
       "      <td>9.0</td>\n",
       "      <td>Minnesota Vikings</td>\n",
       "      <td>NO</td>\n",
       "      <td>-5.0</td>\n",
       "      <td>49.5</td>\n",
       "      <td>Louisiana Superdome</td>\n",
       "      <td>False</td>\n",
       "      <td>72.0</td>\n",
       "      <td>0.0</td>\n",
       "      <td>NaN</td>\n",
       "      <td>DOME</td>\n",
       "    </tr>\n",
       "    <tr>\n",
       "      <th>10009</th>\n",
       "      <td>9/12/2010</td>\n",
       "      <td>2010</td>\n",
       "      <td>1</td>\n",
       "      <td>False</td>\n",
       "      <td>Buffalo Bills</td>\n",
       "      <td>10.0</td>\n",
       "      <td>15.0</td>\n",
       "      <td>Miami Dolphins</td>\n",
       "      <td>MIA</td>\n",
       "      <td>-3.0</td>\n",
       "      <td>39</td>\n",
       "      <td>Ralph Wilson Stadium</td>\n",
       "      <td>False</td>\n",
       "      <td>64.0</td>\n",
       "      <td>7.0</td>\n",
       "      <td>81</td>\n",
       "      <td>NaN</td>\n",
       "    </tr>\n",
       "    <tr>\n",
       "      <th>10010</th>\n",
       "      <td>9/12/2010</td>\n",
       "      <td>2010</td>\n",
       "      <td>1</td>\n",
       "      <td>False</td>\n",
       "      <td>Chicago Bears</td>\n",
       "      <td>19.0</td>\n",
       "      <td>14.0</td>\n",
       "      <td>Detroit Lions</td>\n",
       "      <td>CHI</td>\n",
       "      <td>-6.5</td>\n",
       "      <td>45</td>\n",
       "      <td>Soldier Field</td>\n",
       "      <td>False</td>\n",
       "      <td>75.0</td>\n",
       "      <td>1.0</td>\n",
       "      <td>45</td>\n",
       "      <td>NaN</td>\n",
       "    </tr>\n",
       "    <tr>\n",
       "      <th>10011</th>\n",
       "      <td>9/12/2010</td>\n",
       "      <td>2010</td>\n",
       "      <td>1</td>\n",
       "      <td>False</td>\n",
       "      <td>Houston Texans</td>\n",
       "      <td>34.0</td>\n",
       "      <td>24.0</td>\n",
       "      <td>Indianapolis Colts</td>\n",
       "      <td>IND</td>\n",
       "      <td>-1.0</td>\n",
       "      <td>48</td>\n",
       "      <td>Reliant Stadium</td>\n",
       "      <td>False</td>\n",
       "      <td>89.0</td>\n",
       "      <td>5.0</td>\n",
       "      <td>NaN</td>\n",
       "      <td>DOME (Open Roof)</td>\n",
       "    </tr>\n",
       "    <tr>\n",
       "      <th>10012</th>\n",
       "      <td>9/12/2010</td>\n",
       "      <td>2010</td>\n",
       "      <td>1</td>\n",
       "      <td>False</td>\n",
       "      <td>Jacksonville Jaguars</td>\n",
       "      <td>24.0</td>\n",
       "      <td>17.0</td>\n",
       "      <td>Denver Broncos</td>\n",
       "      <td>JAX</td>\n",
       "      <td>-3.0</td>\n",
       "      <td>41.5</td>\n",
       "      <td>EverBank Field</td>\n",
       "      <td>False</td>\n",
       "      <td>91.0</td>\n",
       "      <td>1.0</td>\n",
       "      <td>67</td>\n",
       "      <td>NaN</td>\n",
       "    </tr>\n",
       "  </tbody>\n",
       "</table>\n",
       "</div>"
      ],
      "text/plain": [
       "      schedule_date  schedule_season schedule_week  schedule_playoff  \\\n",
       "10008      9/9/2010             2010             1             False   \n",
       "10009     9/12/2010             2010             1             False   \n",
       "10010     9/12/2010             2010             1             False   \n",
       "10011     9/12/2010             2010             1             False   \n",
       "10012     9/12/2010             2010             1             False   \n",
       "\n",
       "                  team_home  score_home  score_away           team_away  \\\n",
       "10008    New Orleans Saints        14.0         9.0   Minnesota Vikings   \n",
       "10009         Buffalo Bills        10.0        15.0      Miami Dolphins   \n",
       "10010         Chicago Bears        19.0        14.0       Detroit Lions   \n",
       "10011        Houston Texans        34.0        24.0  Indianapolis Colts   \n",
       "10012  Jacksonville Jaguars        24.0        17.0      Denver Broncos   \n",
       "\n",
       "      team_favorite_id  spread_favorite over_under_line               stadium  \\\n",
       "10008               NO             -5.0            49.5   Louisiana Superdome   \n",
       "10009              MIA             -3.0              39  Ralph Wilson Stadium   \n",
       "10010              CHI             -6.5              45         Soldier Field   \n",
       "10011              IND             -1.0              48       Reliant Stadium   \n",
       "10012              JAX             -3.0            41.5        EverBank Field   \n",
       "\n",
       "      stadium_neutral  weather_temperature  weather_wind_mph weather_humidity  \\\n",
       "10008           False                 72.0               0.0              NaN   \n",
       "10009           False                 64.0               7.0               81   \n",
       "10010           False                 75.0               1.0               45   \n",
       "10011           False                 89.0               5.0              NaN   \n",
       "10012           False                 91.0               1.0               67   \n",
       "\n",
       "         weather_detail  \n",
       "10008              DOME  \n",
       "10009               NaN  \n",
       "10010               NaN  \n",
       "10011  DOME (Open Roof)  \n",
       "10012               NaN  "
      ]
     },
     "execution_count": 268,
     "metadata": {},
     "output_type": "execute_result"
    }
   ],
   "source": [
    "nfl.head()"
   ]
  },
  {
   "cell_type": "code",
   "execution_count": 269,
   "metadata": {},
   "outputs": [
    {
     "data": {
      "text/plain": [
       "array(['New Orleans Saints', 'Buffalo Bills', 'Chicago Bears',\n",
       "       'Houston Texans', 'Jacksonville Jaguars', 'New England Patriots',\n",
       "       'New York Giants', 'Philadelphia Eagles', 'Pittsburgh Steelers',\n",
       "       'Seattle Seahawks', 'St. Louis Rams', 'Tampa Bay Buccaneers',\n",
       "       'Tennessee Titans', 'Washington Redskins', 'Kansas City Chiefs',\n",
       "       'New York Jets', 'Atlanta Falcons', 'Carolina Panthers',\n",
       "       'Cincinnati Bengals', 'Cleveland Browns', 'Dallas Cowboys',\n",
       "       'Denver Broncos', 'Detroit Lions', 'Green Bay Packers',\n",
       "       'Indianapolis Colts', 'Minnesota Vikings', 'Oakland Raiders',\n",
       "       'San Diego Chargers', 'San Francisco 49ers', 'Arizona Cardinals',\n",
       "       'Baltimore Ravens', 'Miami Dolphins', 'Los Angeles Rams',\n",
       "       'Los Angeles Chargers', 'Washington Football Team',\n",
       "       'Las Vegas Raiders'], dtype=object)"
      ]
     },
     "execution_count": 269,
     "metadata": {},
     "output_type": "execute_result"
    }
   ],
   "source": [
    "nfl['team_home'].unique()"
   ]
  },
  {
   "cell_type": "code",
   "execution_count": 270,
   "metadata": {},
   "outputs": [
    {
     "data": {
      "text/plain": [
       "array(['NO', 'MIA', 'CHI', 'IND', 'JAX', 'NE', 'NYG', 'GB', 'ATL', 'SF',\n",
       "       'ARI', 'TB', 'TEN', 'DAL', 'LAC', 'NYJ', 'CAR', 'BAL', 'CLE',\n",
       "       'DEN', 'PHI', 'MIN', 'LVR', 'HOU', 'CIN', 'WAS', 'PIT', 'SEA',\n",
       "       'BUF', 'DET', 'KC', 'LAR', 'PICK'], dtype=object)"
      ]
     },
     "execution_count": 270,
     "metadata": {},
     "output_type": "execute_result"
    }
   ],
   "source": [
    "nfl['team_favorite_id'].unique()"
   ]
  },
  {
   "cell_type": "markdown",
   "metadata": {},
   "source": [
    "### Cleaning the data"
   ]
  },
  {
   "cell_type": "code",
   "execution_count": 271,
   "metadata": {},
   "outputs": [],
   "source": [
    "## Changing the team names for all teams who changed names at some point over the ten seasons\n",
    "\n",
    "## Rams, Chargers, Raiders, and Washington\n",
    "\n",
    "nfl['team_home'] = np.where(nfl['team_home'] == 'St. Louis Rams', 'Los Angeles Rams', nfl['team_home'])\n",
    "nfl['team_away'] = np.where(nfl['team_away'] == 'St. Louis Rams', 'Los Angeles Rams', nfl['team_away'])\n",
    "\n",
    "nfl['team_home'] = np.where(nfl['team_home'] == 'Washington Redskins', 'Washington Football Team', nfl['team_home'])\n",
    "nfl['team_away'] = np.where(nfl['team_away'] == 'Washington Redskins', 'Washington Football Team', nfl['team_away'])\n",
    "\n",
    "nfl['team_home'] = np.where(nfl['team_home'] == 'Oakland Raiders', 'Las Vegas Raiders', nfl['team_home'])\n",
    "nfl['team_away'] = np.where(nfl['team_away'] == 'Oakland Raiders', 'Las Vegas Raiders', nfl['team_away'])\n",
    "\n",
    "nfl['team_home'] = np.where(nfl['team_home'] == 'San Diego Chargers', 'Los Angeles Chargers', nfl['team_home'])\n",
    "nfl['team_away'] = np.where(nfl['team_away'] == 'San Diego Chargers', 'Los Angeles Chargers', nfl['team_away'])"
   ]
  },
  {
   "cell_type": "code",
   "execution_count": 272,
   "metadata": {},
   "outputs": [],
   "source": [
    "## Changing the schedule_playoff and stadium_neutral variables to numerical\n",
    "\n",
    "nfl['schedule_playoff'] = np.where(nfl['schedule_playoff'] == False, 0, 1)\n",
    "nfl['stadium_neutral'] = np.where(nfl['stadium_neutral'] == False, 0, 1)"
   ]
  },
  {
   "cell_type": "code",
   "execution_count": 273,
   "metadata": {},
   "outputs": [],
   "source": [
    "## Dropping the weather variables\n",
    "\n",
    "nfl = nfl.drop(columns = ['weather_temperature', 'weather_wind_mph', 'weather_humidity', 'weather_detail'])"
   ]
  },
  {
   "cell_type": "code",
   "execution_count": 274,
   "metadata": {},
   "outputs": [
    {
     "name": "stdout",
     "output_type": "stream",
     "text": [
      "Shape of the data set: (2939, 13)\n"
     ]
    }
   ],
   "source": [
    "print('Shape of the data set:', nfl.shape)"
   ]
  },
  {
   "cell_type": "code",
   "execution_count": 275,
   "metadata": {},
   "outputs": [
    {
     "name": "stdout",
     "output_type": "stream",
     "text": [
      "Shape of the data set (dropped NA): (2939, 13)\n"
     ]
    }
   ],
   "source": [
    "print('Shape of the data set (dropped NA):', nfl.dropna().shape)"
   ]
  },
  {
   "cell_type": "markdown",
   "metadata": {},
   "source": [
    "### Merging Data Sets"
   ]
  },
  {
   "cell_type": "code",
   "execution_count": 276,
   "metadata": {},
   "outputs": [],
   "source": [
    "nfl = team_id_away.merge(nfl, on = 'team_away', how = 'left', sort = False)\n",
    "nfl = team_id_home.merge(nfl, on = 'team_home', how = 'left', sort = False)"
   ]
  },
  {
   "cell_type": "code",
   "execution_count": 277,
   "metadata": {},
   "outputs": [
    {
     "data": {
      "text/html": [
       "<div>\n",
       "<style scoped>\n",
       "    .dataframe tbody tr th:only-of-type {\n",
       "        vertical-align: middle;\n",
       "    }\n",
       "\n",
       "    .dataframe tbody tr th {\n",
       "        vertical-align: top;\n",
       "    }\n",
       "\n",
       "    .dataframe thead th {\n",
       "        text-align: right;\n",
       "    }\n",
       "</style>\n",
       "<table border=\"1\" class=\"dataframe\">\n",
       "  <thead>\n",
       "    <tr style=\"text-align: right;\">\n",
       "      <th></th>\n",
       "      <th>team_home</th>\n",
       "      <th>team_home_name</th>\n",
       "      <th>team_home_id</th>\n",
       "      <th>team_away</th>\n",
       "      <th>team_away_name</th>\n",
       "      <th>team_away_id</th>\n",
       "      <th>schedule_date</th>\n",
       "      <th>schedule_season</th>\n",
       "      <th>schedule_week</th>\n",
       "      <th>schedule_playoff</th>\n",
       "      <th>score_home</th>\n",
       "      <th>score_away</th>\n",
       "      <th>team_favorite_id</th>\n",
       "      <th>spread_favorite</th>\n",
       "      <th>over_under_line</th>\n",
       "      <th>stadium</th>\n",
       "      <th>stadium_neutral</th>\n",
       "    </tr>\n",
       "  </thead>\n",
       "  <tbody>\n",
       "    <tr>\n",
       "      <th>0</th>\n",
       "      <td>Arizona Cardinals</td>\n",
       "      <td>Arizona</td>\n",
       "      <td>ARI</td>\n",
       "      <td>Atlanta Falcons</td>\n",
       "      <td>Atlanta</td>\n",
       "      <td>ATL</td>\n",
       "      <td>10/27/2013</td>\n",
       "      <td>2013</td>\n",
       "      <td>8</td>\n",
       "      <td>0</td>\n",
       "      <td>27.0</td>\n",
       "      <td>13.0</td>\n",
       "      <td>ARI</td>\n",
       "      <td>-3.0</td>\n",
       "      <td>46.5</td>\n",
       "      <td>University of Phoenix Stadium</td>\n",
       "      <td>0</td>\n",
       "    </tr>\n",
       "    <tr>\n",
       "      <th>1</th>\n",
       "      <td>Arizona Cardinals</td>\n",
       "      <td>Arizona</td>\n",
       "      <td>ARI</td>\n",
       "      <td>Atlanta Falcons</td>\n",
       "      <td>Atlanta</td>\n",
       "      <td>ATL</td>\n",
       "      <td>10/13/2019</td>\n",
       "      <td>2019</td>\n",
       "      <td>6</td>\n",
       "      <td>0</td>\n",
       "      <td>34.0</td>\n",
       "      <td>33.0</td>\n",
       "      <td>ATL</td>\n",
       "      <td>-3.0</td>\n",
       "      <td>52</td>\n",
       "      <td>University of Phoenix Stadium</td>\n",
       "      <td>0</td>\n",
       "    </tr>\n",
       "    <tr>\n",
       "      <th>2</th>\n",
       "      <td>Arizona Cardinals</td>\n",
       "      <td>Arizona</td>\n",
       "      <td>ARI</td>\n",
       "      <td>Baltimore Ravens</td>\n",
       "      <td>Baltimore</td>\n",
       "      <td>BAL</td>\n",
       "      <td>10/26/2015</td>\n",
       "      <td>2015</td>\n",
       "      <td>7</td>\n",
       "      <td>0</td>\n",
       "      <td>26.0</td>\n",
       "      <td>18.0</td>\n",
       "      <td>ARI</td>\n",
       "      <td>-10.0</td>\n",
       "      <td>49.5</td>\n",
       "      <td>University of Phoenix Stadium</td>\n",
       "      <td>0</td>\n",
       "    </tr>\n",
       "    <tr>\n",
       "      <th>3</th>\n",
       "      <td>Arizona Cardinals</td>\n",
       "      <td>Arizona</td>\n",
       "      <td>ARI</td>\n",
       "      <td>Buffalo Bills</td>\n",
       "      <td>Buffalo</td>\n",
       "      <td>BUF</td>\n",
       "      <td>10/14/2012</td>\n",
       "      <td>2012</td>\n",
       "      <td>6</td>\n",
       "      <td>0</td>\n",
       "      <td>16.0</td>\n",
       "      <td>19.0</td>\n",
       "      <td>ARI</td>\n",
       "      <td>-5.0</td>\n",
       "      <td>44</td>\n",
       "      <td>University of Phoenix Stadium</td>\n",
       "      <td>0</td>\n",
       "    </tr>\n",
       "    <tr>\n",
       "      <th>4</th>\n",
       "      <td>Arizona Cardinals</td>\n",
       "      <td>Arizona</td>\n",
       "      <td>ARI</td>\n",
       "      <td>Buffalo Bills</td>\n",
       "      <td>Buffalo</td>\n",
       "      <td>BUF</td>\n",
       "      <td>11/15/2020</td>\n",
       "      <td>2020</td>\n",
       "      <td>10</td>\n",
       "      <td>0</td>\n",
       "      <td>32.0</td>\n",
       "      <td>30.0</td>\n",
       "      <td>ARI</td>\n",
       "      <td>-2.5</td>\n",
       "      <td>56</td>\n",
       "      <td>University of Phoenix Stadium</td>\n",
       "      <td>0</td>\n",
       "    </tr>\n",
       "  </tbody>\n",
       "</table>\n",
       "</div>"
      ],
      "text/plain": [
       "           team_home team_home_name team_home_id         team_away  \\\n",
       "0  Arizona Cardinals        Arizona          ARI   Atlanta Falcons   \n",
       "1  Arizona Cardinals        Arizona          ARI   Atlanta Falcons   \n",
       "2  Arizona Cardinals        Arizona          ARI  Baltimore Ravens   \n",
       "3  Arizona Cardinals        Arizona          ARI     Buffalo Bills   \n",
       "4  Arizona Cardinals        Arizona          ARI     Buffalo Bills   \n",
       "\n",
       "  team_away_name team_away_id schedule_date  schedule_season schedule_week  \\\n",
       "0        Atlanta          ATL    10/27/2013             2013             8   \n",
       "1        Atlanta          ATL    10/13/2019             2019             6   \n",
       "2      Baltimore          BAL    10/26/2015             2015             7   \n",
       "3        Buffalo          BUF    10/14/2012             2012             6   \n",
       "4        Buffalo          BUF    11/15/2020             2020            10   \n",
       "\n",
       "   schedule_playoff  score_home  score_away team_favorite_id  spread_favorite  \\\n",
       "0                 0        27.0        13.0              ARI             -3.0   \n",
       "1                 0        34.0        33.0              ATL             -3.0   \n",
       "2                 0        26.0        18.0              ARI            -10.0   \n",
       "3                 0        16.0        19.0              ARI             -5.0   \n",
       "4                 0        32.0        30.0              ARI             -2.5   \n",
       "\n",
       "  over_under_line                        stadium  stadium_neutral  \n",
       "0            46.5  University of Phoenix Stadium                0  \n",
       "1              52  University of Phoenix Stadium                0  \n",
       "2            49.5  University of Phoenix Stadium                0  \n",
       "3              44  University of Phoenix Stadium                0  \n",
       "4              56  University of Phoenix Stadium                0  "
      ]
     },
     "execution_count": 277,
     "metadata": {},
     "output_type": "execute_result"
    }
   ],
   "source": [
    "nfl.head()"
   ]
  },
  {
   "cell_type": "markdown",
   "metadata": {},
   "source": [
    "### Exporting the data set for further changes"
   ]
  },
  {
   "cell_type": "code",
   "execution_count": 265,
   "metadata": {},
   "outputs": [],
   "source": [
    "nfl.to_csv('cleaned_spreadspoke_scores.csv', index = False, header = True)"
   ]
  }
 ],
 "metadata": {
  "kernelspec": {
   "display_name": "Python 3",
   "language": "python",
   "name": "python3"
  },
  "language_info": {
   "codemirror_mode": {
    "name": "ipython",
    "version": 3
   },
   "file_extension": ".py",
   "mimetype": "text/x-python",
   "name": "python",
   "nbconvert_exporter": "python",
   "pygments_lexer": "ipython3",
   "version": "3.8.3"
  }
 },
 "nbformat": 4,
 "nbformat_minor": 4
}
