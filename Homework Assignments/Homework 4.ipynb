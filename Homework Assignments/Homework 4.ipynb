{
 "cells": [
  {
   "cell_type": "markdown",
   "metadata": {},
   "source": [
    "# Homework Assignment 4 - Evan Callaghan and Bryce Dean\n",
    "\n",
    "## 1. After scoring a touchdown, a football team may elect to attempt a two-point conversion, by running or passing the ball into the end zone. If successful, the team score two points. For instance football team, the probability that this play is successful is 0.40. Let X = 1 be a successful, X = 0 if not. Find the mean and variance of X.\n",
    "\n",
    "#### Binomial distribution: X ~ Bin(1, 0.4)\n",
    "#### Mean = 1(0.4) + 0(0.6) = 0.4\n",
    "#### Variance = (0.4)(1-0.4) = 0.24\n",
    "\n",
    "\n",
    "## 2. True or False: If A and B are mutually exclusive...\n",
    "\n",
    "#### a) FALSE - P(A ∪ B) = 0\n",
    "\n",
    "#### b) TRUE - P(A ∩ B) = 0\n",
    "\n",
    "#### c) FALSE - P(A ∪ B) = P(A ∩ B)\n",
    "\n",
    "#### d) TRUE - P(A ∪ B) = P(A) + P(B)\n",
    "\n",
    "## 3. Let X ∼ Bin(5, 0.3). Find...\n",
    "\n",
    "#### n = 5, pi = 0.3\n",
    "#### P(X = 0) + P(X = 1) + P(X = 2) + P(X = 3) + P(X = 4) + P(X = 5) = 1\n",
    "\n",
    "## a) P(X ≥ 2)\n",
    "\n",
    "\n",
    "#### P(X ≥ 2) = P(X = 2) + P(X = 3) + P(X = 4) + P(X = 5)\n",
    "#### P(X ≥ 2) = (5C2)(0.3)^(2)(1-0.3)^(5-2) + (5C3)(0.3)^(3)(1-0.3)^(5-3) + (5C4)(0.3)^(4)(1-0.3)^(5-4) + (5C5)(0.3)^(5)(1-0.3)^(5-5)\n",
    "#### P(X ≥ 2) = 0.472\n",
    "\n",
    "## b) P(1 ≤ X ≤ 3)\n",
    "\n",
    "#### P(1 ≤ X ≤ 3) = P(X = 1) + P(X = 2) + P(X = 3)\n",
    "#### P(1 ≤ X ≤ 3) = (5C1)(0.3)^(1)(1-0.3)^(5-1) + (5C2)(0.3)^(2)(1-0.3)^(5-2) + (5C3)(0.3)^(3)(1-0.3)^(5-3)\n",
    "#### P(1 ≤ X ≤ 3) = 0.801\n",
    "\n",
    "## c) P(X = 0)\n",
    "\n",
    "#### P(X = 0) = P(X1 = 0, X2 = 0, X3 = 0, X4 = 0, X5 = 0)\n",
    "#### P(X = 0) = (1 - pi)(1 - pi)(1 - pi)(1 - pi)(1 - pi) = (1 - 0.3)^(5) = 0.168 \n",
    "\n",
    "## d) E(X)\n",
    "\n",
    "#### E(X) = (n)(pi) = (5)(0.3) = 1.5\n",
    "\n",
    "## e) Var(X)\n",
    "\n",
    "#### Var(X) = (n)(pi)(1-pi) = (5)(0.3)(0.7) = 1.05\n"
   ]
  },
  {
   "cell_type": "code",
   "execution_count": 2,
   "metadata": {},
   "outputs": [],
   "source": [
    "## 5. a) Using the pandas library to read both csv files into Python and create two dataframes: curry and thompson\n",
    "\n",
    "import pandas as pd\n",
    "import numpy as np\n",
    "from sklearn.utils import resample\n",
    "\n",
    "curry = pd.read_csv('Curry_2016_2017.csv')\n",
    "thompson = pd.read_csv('Thompson_2016_2017.csv')"
   ]
  },
  {
   "cell_type": "code",
   "execution_count": 3,
   "metadata": {},
   "outputs": [
    {
     "name": "stdout",
     "output_type": "stream",
     "text": [
      "Curry PPG: 25.303797468354432\n",
      "Curry Margin of Error: 1.7315276954705145\n",
      "\n",
      "Thompson PPG: 22.333333333333332\n",
      "Thompson Margin of Error: 1.807103556972667\n"
     ]
    }
   ],
   "source": [
    "## b)  Report the average points per game and their margin of errors of Curry and Thompson for 2016-2017 NBA season.\n",
    "\n",
    "curry_moe = (2*curry['PTS'].std()) / np.sqrt(curry.shape[0])\n",
    "\n",
    "thompson_moe = (2*thompson['PTS'].std()) / np.sqrt(thompson.shape[0])\n",
    "\n",
    "print(\"Curry PPG:\", curry['PTS'].mean())\n",
    "print(\"Curry Margin of Error:\", curry_moe)\n",
    "\n",
    "print(\"\\nThompson PPG:\", thompson['PTS'].mean())\n",
    "print(\"Thompson Margin of Error:\", thompson_moe)\n"
   ]
  },
  {
   "cell_type": "code",
   "execution_count": 4,
   "metadata": {},
   "outputs": [
    {
     "name": "stdout",
     "output_type": "stream",
     "text": [
      "Curry average PPG: 25.32488607594937\n",
      "Curry estimated margin or error: 1.7329064585222216\n",
      "\n",
      "Thompson average PPG: 22.265807692307693\n",
      "Thompson estimated margin or error: 1.7846489189770498\n"
     ]
    }
   ],
   "source": [
    "## c) Estimating the margin of error of the average points per game of Curry and Thompson via simulation\n",
    "\n",
    "## Defining empty lists for results\n",
    "curry_results = []\n",
    "thompson_results = []\n",
    "\n",
    "for i in range(0, 1000):\n",
    "    \n",
    "    ## Simulating\n",
    "    curry_sim = resample(curry['PTS'], replace = True)\n",
    "    thompson_sim = resample(thompson['PTS'], replace = True)\n",
    "\n",
    "    ## Appending to the lists\n",
    "    curry_results.append(np.mean(curry_sim))\n",
    "    thompson_results.append(np.mean(thompson_sim))\n",
    "\n",
    "## Printing the averages and estimated margins or error\n",
    "print('Curry average PPG:', np.mean(curry_results))\n",
    "print('Curry estimated margin or error:', 2*np.std(curry_results, ddof = 1))\n",
    "print('\\nThompson average PPG:', np.mean(thompson_results))\n",
    "print('Thompson estimated margin or error:', 2*np.std(thompson_results, ddof = 1))\n",
    "\n",
    "\n",
    "## The simulated results are almost identical to the actual average PTS values for Curry and Thompson that we see in part (b). "
   ]
  },
  {
   "cell_type": "code",
   "execution_count": 7,
   "metadata": {},
   "outputs": [
    {
     "name": "stdout",
     "output_type": "stream",
     "text": [
      "Average difference in PPG: 2.996126582278481\n",
      "\n",
      "Estimated margin or error: 2.4875813358873002\n"
     ]
    }
   ],
   "source": [
    "## d) Estimate the margin of error of the difference of average points per game of Curry and Thompson via simulation\n",
    "\n",
    "## Defining empty list for results\n",
    "results = []\n",
    "\n",
    "for i in range(0, 1000):\n",
    "    \n",
    "    ## Simulating\n",
    "    curry_sim = resample(curry['PTS'], replace = True)\n",
    "    thompson_sim = resample(thompson['PTS'], replace = True)\n",
    "\n",
    "    ## Appending the difference in points to the list\n",
    "    results.append(np.mean(curry_sim) - np.mean(thompson_sim))\n",
    "\n",
    "## Printing the average and estimated margin or error\n",
    "print('Average difference in PPG:', np.mean(results))\n",
    "print('\\nEstimated margin or error:', 2*np.std(results, ddof = 1))\n",
    "\n",
    "\n",
    "## Estimate Interval: 2.996 +/- 2.488 = (0.508, 5.484)\n",
    "## Since our estimation with confidence interval does not contain the value of zero, the difference in PPG between Curry and Thompson \n",
    "## is statistically significant."
   ]
  }
 ],
 "metadata": {
  "kernelspec": {
   "display_name": "Python 3",
   "language": "python",
   "name": "python3"
  },
  "language_info": {
   "codemirror_mode": {
    "name": "ipython",
    "version": 3
   },
   "file_extension": ".py",
   "mimetype": "text/x-python",
   "name": "python",
   "nbconvert_exporter": "python",
   "pygments_lexer": "ipython3",
   "version": "3.8.3"
  }
 },
 "nbformat": 4,
 "nbformat_minor": 4
}
