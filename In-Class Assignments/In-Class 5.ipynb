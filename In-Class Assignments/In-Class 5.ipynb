{
 "cells": [
  {
   "cell_type": "code",
   "execution_count": null,
   "metadata": {},
   "outputs": [],
   "source": [
    "## In-Class Assignment 5 - Evan Callaghan\n",
    "\n",
    "## 1. A sample space consists of five events: E1, E2, E3, E4 and E5. If P(E1) = 3P(E2) = 0.3. Find the probability of the remaining events if you know that \n",
    "## the remaining events are equally probable (i.e., the remaining events have the same probability of occurrence).\n",
    "\n",
    "# P(E1) = 0.3\n",
    "# P(E2) = 0.1\n",
    "# P(E3) = P(E4) = P(E5) = x\n",
    "\n",
    "# Probability of All Events = P(E1) + P(E2) + P(E3) + P(E4) + P(E5) = 0.4 + 3x\n",
    "# 3x = 0.6\n",
    "# x = 0.2\n",
    "\n",
    "# P(E3) = P(E4) = P(E5) = 0.2\n",
    "\n",
    "\n",
    "## 2. Suppose two balanced coins (i.e., P(head) = P(tail) = 0.5) are tossed and the upper faces are observed.\n",
    "## a) List the sample points for this experiment\n",
    "\n",
    "# S = {(H, H), (H, T), (T, H), (T, T)}\n",
    "\n",
    "## b) Assign a reasonable probability to each sample point. (Are the sample points equally likely?)\n",
    "\n",
    "# P(H,H) = P(H) * P(H) = 0.5 * 0.5 = 0.25\n",
    "# P(H,T) = P(H) * P(T) = 0.5 * 0.5 = 0.25\n",
    "# P(T,H) = P(T) * P(H) = 0.5 * 0.5 = 0.25\n",
    "# P(T,T) = P(T) * P(T) = 0.5 * 0.5 = 0.25\n",
    "\n",
    "## c) Let A denote the event that exactly one head is observed and B the event that at least one head is observed. List the sample points in both A and B.\n",
    "\n",
    "# A = Exactly one head = {HT, TH}\n",
    "# B = At least one head = {HH, HT, TH}\n",
    "\n",
    "## d) From your answers to part (c), find P(A), P(B), P(A ∩ B), and P(A ∪ B).\n",
    "\n",
    "# P(A) = P(H,T) + P(T,H) = 0.25 + 0.25 = 0.5\n",
    "# P(B) = P(H,T) + P(T,H) + P(H,H) = 0.25 + 0.25 + 0.25 = 0.75\n",
    "# P(A ∩ B) = P(H,T) + P(T,H) = 0.25 + 0.25 = 0.5\n",
    "# P(A ∪ B) = P(A) + P(B) - P(A ∩ B) = 0.5 + 0.75 - 0.5 = 0.75"
   ]
  }
 ],
 "metadata": {
  "kernelspec": {
   "display_name": "Python 3",
   "language": "python",
   "name": "python3"
  },
  "language_info": {
   "codemirror_mode": {
    "name": "ipython",
    "version": 3
   },
   "file_extension": ".py",
   "mimetype": "text/x-python",
   "name": "python",
   "nbconvert_exporter": "python",
   "pygments_lexer": "ipython3",
   "version": "3.8.3"
  }
 },
 "nbformat": 4,
 "nbformat_minor": 4
}
