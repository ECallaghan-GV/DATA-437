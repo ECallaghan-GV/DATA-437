{
 "cells": [
  {
   "cell_type": "markdown",
   "metadata": {},
   "source": [
    "# In-Class Assignment 16 - Evan Callaghan\n",
    "\n",
    "### Wins = 71.87 + 0.101 × Payroll − 0.060 × League\n",
    "\n",
    "### 1. a) Interpret the slope.\n",
    "\n",
    "#### The slope of the regression line = is 0.101. For teams in the same league, for one unit of increase in Payroll, on average, the number of team wins will increase by 0.101.\n",
    "\n",
    "### b) Suppose we plotted the data and regression lines for National League and American League teams. What would be the intercept of the line for American League teams?\n",
    "\n",
    "#### League takes the value of 1 for American League teams. Therefore, the intercept of the line for an American League team is 71.81.\n",
    "\n",
    "### c) Compute the predicted number of wins for a National League team with a payroll of 98 million\n",
    "\n",
    "#### Wins = 71.87 + 0.101(98) - 0.6(0) = 81.77"
   ]
  }
 ],
 "metadata": {
  "kernelspec": {
   "display_name": "Python 3",
   "language": "python",
   "name": "python3"
  },
  "language_info": {
   "codemirror_mode": {
    "name": "ipython",
    "version": 3
   },
   "file_extension": ".py",
   "mimetype": "text/x-python",
   "name": "python",
   "nbconvert_exporter": "python",
   "pygments_lexer": "ipython3",
   "version": "3.8.3"
  }
 },
 "nbformat": 4,
 "nbformat_minor": 4
}
