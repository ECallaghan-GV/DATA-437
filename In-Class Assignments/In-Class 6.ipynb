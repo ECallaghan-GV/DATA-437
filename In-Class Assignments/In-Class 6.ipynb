{
 "cells": [
  {
   "cell_type": "markdown",
   "metadata": {},
   "source": [
    "# In-Class Assignment 6 - Evan Callaghan\n",
    "\n",
    "### 1. a) Computing the expected number of touch-down passes\n",
    "#### E(X) = Sum(x (P(X = x))\n",
    "#### E(X) = 0*P(X=0) + 1*P(x=1) + 2*P(x=2) + 3*P(x=3) + 4*P(x=4) + 5*P(x=5)\n",
    "#### E(X) = 0 + 0.25 + 0.5 + 0.75 + 0.4 + 0.25\n",
    "#### E(X) = 2.15\n",
    "\n",
    "\n",
    "\n",
    "### 1. b) Computing the median number of touch-down passes\n",
    "#### Median = 2\n",
    "\n",
    "\n",
    "### 1. c) What can you conclude about the distribution of Rodger’s touch-down passes?\n",
    "#### We can conclude that the shape of the distribution is slightly right-skewed (Mean > Median)\n",
    "\n",
    "\n",
    "### 2. Lionel Messi is one of the most popular athletes in the world. He spend 21 years playing for Barcelona FC. Let B denote the event that Barcelona wins a home match. Let M denote the event the Messi scores 2 or more goals in a home game. We have that:\n",
    "### P(B) = 0.65, P(B ∩ M) = 0.35, P(M) = 0.45\n",
    "\n",
    "### 2. a)  Computing P(B|M)\n",
    "#### P(B|M) = P(B ∩ M) / P(M)\n",
    "#### P(B|M) = 0.35 / 0.45\n",
    "#### P(B|M) = 78%\n",
    "\n",
    "### 2. b) Computing P(M|B)\n",
    "#### P(M|B) = P(M ∩ B) / P(B)\n",
    "#### P(M|B) = P(B ∩ M) / P(B)\n",
    "#### P(M|B) = 0.35 / 0.65\n",
    "#### P(M|B) = 54%"
   ]
  }
 ],
 "metadata": {
  "kernelspec": {
   "display_name": "Python 3",
   "language": "python",
   "name": "python3"
  },
  "language_info": {
   "codemirror_mode": {
    "name": "ipython",
    "version": 3
   },
   "file_extension": ".py",
   "mimetype": "text/x-python",
   "name": "python",
   "nbconvert_exporter": "python",
   "pygments_lexer": "ipython3",
   "version": "3.8.3"
  }
 },
 "nbformat": 4,
 "nbformat_minor": 4
}
