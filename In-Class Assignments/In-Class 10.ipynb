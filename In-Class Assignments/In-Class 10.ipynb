{
 "cells": [
  {
   "cell_type": "code",
   "execution_count": 3,
   "metadata": {},
   "outputs": [],
   "source": [
    "## In-Class Assignment 10 - Evan Callaghan\n",
    "\n",
    "import pandas as pd\n",
    "import numpy as np\n",
    "from sklearn.utils import resample\n",
    "\n",
    "## 1. a) Using the pandas library to read both csv files and create two data-frames\n",
    "\n",
    "durant = pd.read_csv('Durant_2011_2012.csv')\n",
    "james = pd.read_csv('James_2011_2012.csv')"
   ]
  },
  {
   "cell_type": "code",
   "execution_count": 12,
   "metadata": {},
   "outputs": [
    {
     "name": "stdout",
     "output_type": "stream",
     "text": [
      "Average difference in rebounds: 0.026685239491691114\n",
      "Margin of Error: 0.4992785136144397\n"
     ]
    }
   ],
   "source": [
    "## b) Estimating the difference of the average rebounds between the two players in the 2011- 2012 NBA season via simulation\n",
    "\n",
    "## Using 1000 simulations and also estimating the margin of error of the difference of the average rebounds\n",
    "\n",
    "## Defining empty list for results\n",
    "REB_diff = []\n",
    "\n",
    "for i in range(0, 1000):\n",
    "    \n",
    "    ## Simulating the Durant data\n",
    "    durant_sim = resample(durant['REB'], replace = True)\n",
    "    \n",
    "    ## Simulating the James data\n",
    "    james_sim = resample(james['REB'], replace = True)\n",
    "    \n",
    "    ## Computing the difference in average rebounds\n",
    "    REB_sim_difference = np.mean(durant_sim) - np.mean(james_sim)\n",
    "    \n",
    "    ## Appending to the list\n",
    "    REB_diff.append(REB_sim_difference)\n",
    "\n",
    "## Printing the average of the differences\n",
    "print('Average difference in rebounds:', np.mean(REB_diff))\n",
    "\n",
    "## Estimating the margin or error\n",
    "\n",
    "print('Margin of Error:', np.std(REB_diff, ddof = 1))\n",
    "\n",
    "\n",
    "## Estimate Interval: 0.0267 +/- 0.4993\n",
    "## Since our estimation with confidence interval contains the value of zero, the difference is not significant."
   ]
  }
 ],
 "metadata": {
  "kernelspec": {
   "display_name": "Python 3",
   "language": "python",
   "name": "python3"
  },
  "language_info": {
   "codemirror_mode": {
    "name": "ipython",
    "version": 3
   },
   "file_extension": ".py",
   "mimetype": "text/x-python",
   "name": "python",
   "nbconvert_exporter": "python",
   "pygments_lexer": "ipython3",
   "version": "3.8.3"
  }
 },
 "nbformat": 4,
 "nbformat_minor": 4
}
