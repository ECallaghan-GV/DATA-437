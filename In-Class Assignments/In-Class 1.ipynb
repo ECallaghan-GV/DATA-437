{
 "cells": [
  {
   "cell_type": "code",
   "execution_count": 4,
   "metadata": {},
   "outputs": [],
   "source": [
    "## In-Class Assignment 1\n",
    "\n",
    "## 1) Reading the csv data set and creating a data frame\n",
    "\n",
    "import pandas as pd\n",
    "\n",
    "goalie_stats = pd.read_csv('game_goalie_stats.csv')"
   ]
  },
  {
   "cell_type": "code",
   "execution_count": 5,
   "metadata": {},
   "outputs": [
    {
     "data": {
      "text/html": [
       "<div>\n",
       "<style scoped>\n",
       "    .dataframe tbody tr th:only-of-type {\n",
       "        vertical-align: middle;\n",
       "    }\n",
       "\n",
       "    .dataframe tbody tr th {\n",
       "        vertical-align: top;\n",
       "    }\n",
       "\n",
       "    .dataframe thead th {\n",
       "        text-align: right;\n",
       "    }\n",
       "</style>\n",
       "<table border=\"1\" class=\"dataframe\">\n",
       "  <thead>\n",
       "    <tr style=\"text-align: right;\">\n",
       "      <th></th>\n",
       "      <th>game_id</th>\n",
       "      <th>player_id</th>\n",
       "      <th>team_id</th>\n",
       "      <th>timeOnIce</th>\n",
       "      <th>assists</th>\n",
       "      <th>goals</th>\n",
       "      <th>pim</th>\n",
       "      <th>shots</th>\n",
       "      <th>saves</th>\n",
       "      <th>powerPlaySaves</th>\n",
       "      <th>shortHandedSaves</th>\n",
       "      <th>evenSaves</th>\n",
       "      <th>shortHandedShotsAgainst</th>\n",
       "      <th>evenShotsAgainst</th>\n",
       "      <th>powerPlayShotsAgainst</th>\n",
       "      <th>decision</th>\n",
       "      <th>savePercentage</th>\n",
       "      <th>powerPlaySavePercentage</th>\n",
       "      <th>evenStrengthSavePercentage</th>\n",
       "    </tr>\n",
       "  </thead>\n",
       "  <tbody>\n",
       "    <tr>\n",
       "      <th>16059</th>\n",
       "      <td>2017020726</td>\n",
       "      <td>8475883</td>\n",
       "      <td>10</td>\n",
       "      <td>3479</td>\n",
       "      <td>0</td>\n",
       "      <td>0</td>\n",
       "      <td>0</td>\n",
       "      <td>26</td>\n",
       "      <td>23</td>\n",
       "      <td>0</td>\n",
       "      <td>1</td>\n",
       "      <td>22</td>\n",
       "      <td>1</td>\n",
       "      <td>25</td>\n",
       "      <td>0</td>\n",
       "      <td>L</td>\n",
       "      <td>88.461538</td>\n",
       "      <td>NaN</td>\n",
       "      <td>88.000000</td>\n",
       "    </tr>\n",
       "    <tr>\n",
       "      <th>16060</th>\n",
       "      <td>2016020251</td>\n",
       "      <td>8473575</td>\n",
       "      <td>21</td>\n",
       "      <td>3543</td>\n",
       "      <td>0</td>\n",
       "      <td>0</td>\n",
       "      <td>0</td>\n",
       "      <td>22</td>\n",
       "      <td>19</td>\n",
       "      <td>2</td>\n",
       "      <td>0</td>\n",
       "      <td>17</td>\n",
       "      <td>0</td>\n",
       "      <td>18</td>\n",
       "      <td>4</td>\n",
       "      <td>L</td>\n",
       "      <td>86.363636</td>\n",
       "      <td>50.0</td>\n",
       "      <td>94.444444</td>\n",
       "    </tr>\n",
       "    <tr>\n",
       "      <th>16061</th>\n",
       "      <td>2016020251</td>\n",
       "      <td>8470140</td>\n",
       "      <td>25</td>\n",
       "      <td>3600</td>\n",
       "      <td>0</td>\n",
       "      <td>0</td>\n",
       "      <td>0</td>\n",
       "      <td>36</td>\n",
       "      <td>34</td>\n",
       "      <td>3</td>\n",
       "      <td>4</td>\n",
       "      <td>27</td>\n",
       "      <td>5</td>\n",
       "      <td>28</td>\n",
       "      <td>3</td>\n",
       "      <td>W</td>\n",
       "      <td>94.444444</td>\n",
       "      <td>100.0</td>\n",
       "      <td>96.428571</td>\n",
       "    </tr>\n",
       "  </tbody>\n",
       "</table>\n",
       "</div>"
      ],
      "text/plain": [
       "          game_id  player_id  team_id  timeOnIce  assists  goals  pim  shots  \\\n",
       "16059  2017020726    8475883       10       3479        0      0    0     26   \n",
       "16060  2016020251    8473575       21       3543        0      0    0     22   \n",
       "16061  2016020251    8470140       25       3600        0      0    0     36   \n",
       "\n",
       "       saves  powerPlaySaves  shortHandedSaves  evenSaves  \\\n",
       "16059     23               0                 1         22   \n",
       "16060     19               2                 0         17   \n",
       "16061     34               3                 4         27   \n",
       "\n",
       "       shortHandedShotsAgainst  evenShotsAgainst  powerPlayShotsAgainst  \\\n",
       "16059                        1                25                      0   \n",
       "16060                        0                18                      4   \n",
       "16061                        5                28                      3   \n",
       "\n",
       "      decision  savePercentage  powerPlaySavePercentage  \\\n",
       "16059        L       88.461538                      NaN   \n",
       "16060        L       86.363636                     50.0   \n",
       "16061        W       94.444444                    100.0   \n",
       "\n",
       "       evenStrengthSavePercentage  \n",
       "16059                   88.000000  \n",
       "16060                   94.444444  \n",
       "16061                   96.428571  "
      ]
     },
     "execution_count": 5,
     "metadata": {},
     "output_type": "execute_result"
    }
   ],
   "source": [
    "## 2) Printing the first three observations in the data set\n",
    "\n",
    "goalie_stats.head(3)"
   ]
  },
  {
   "cell_type": "code",
   "execution_count": null,
   "metadata": {},
   "outputs": [],
   "source": [
    "## Printing the last three observations in the data set\n",
    "\n",
    "goalie_stats.tail(3)"
   ]
  },
  {
   "cell_type": "code",
   "execution_count": 14,
   "metadata": {},
   "outputs": [
    {
     "data": {
      "text/plain": [
       "173"
      ]
     },
     "execution_count": 14,
     "metadata": {},
     "output_type": "execute_result"
    }
   ],
   "source": [
    "## 3) Reporting the number of goalies in the data set\n",
    "\n",
    "goalie_stats['player_id'].nunique()\n",
    "\n",
    "## There are 173 unique goalies in the data set."
   ]
  },
  {
   "cell_type": "code",
   "execution_count": 16,
   "metadata": {},
   "outputs": [
    {
     "data": {
      "text/plain": [
       "142"
      ]
     },
     "execution_count": 16,
     "metadata": {},
     "output_type": "execute_result"
    }
   ],
   "source": [
    "## 4) Reporting the number of goalies with a save percenage > 95%\n",
    "\n",
    "goalie_stats[goalie_stats['savePercentage'] > 95]['player_id'].nunique()\n",
    "\n",
    "## There are 142 goalies who had at least one game with a save percentage greater than 95%."
   ]
  }
 ],
 "metadata": {
  "kernelspec": {
   "display_name": "Python 3",
   "language": "python",
   "name": "python3"
  },
  "language_info": {
   "codemirror_mode": {
    "name": "ipython",
    "version": 3
   },
   "file_extension": ".py",
   "mimetype": "text/x-python",
   "name": "python",
   "nbconvert_exporter": "python",
   "pygments_lexer": "ipython3",
   "version": "3.8.3"
  }
 },
 "nbformat": 4,
 "nbformat_minor": 4
}
