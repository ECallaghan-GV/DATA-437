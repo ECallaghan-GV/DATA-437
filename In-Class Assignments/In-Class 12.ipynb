{
 "cells": [
  {
   "cell_type": "code",
   "execution_count": 12,
   "metadata": {},
   "outputs": [
    {
     "name": "stdout",
     "output_type": "stream",
     "text": [
      "Correlation: -0.3151099121096893\n",
      "Margin of Error: 0.22526425712366666\n"
     ]
    }
   ],
   "source": [
    "## In-Class Assignment 12 - Evan Callaghan\n",
    "\n",
    "import numpy as np\n",
    "\n",
    "## 1. In some cases, measures of association for categorical variables are useful even when the underlying\n",
    "## variables are continuous if the question being addressed can be expressed in terms of variables that\n",
    "## take only two values. For instance, suppose we are interested in the relationship between Tom Brady’s\n",
    "## success in passing in a given game and the pressure exerted by the defense’s pass rush. Although there\n",
    "## are many variables that could be used to address this issue in a formal analysis, here we consider the\n",
    "## relationship between touch-down passes, denoted by T, and sacks, denoted by S.\n",
    "\n",
    "## a) Computing the correlation coefficient\n",
    "\n",
    "## corr = (ad - bc) / sqrt((a + b)(c + d)(a + c)(d + d)\n",
    "r = (29*2 - 18*22) / (np.sqrt((29 + 22) * (18 + 2) * (29 + 18) * (22 + 2)))\n",
    "\n",
    "print('Correlation:', r)\n",
    "\n",
    "## ME = np.sqrt((1 - r^2) / n)\n",
    "ME = 2 * np.sqrt((1 - (np.power(r, 2))) / 71)\n",
    "\n",
    "print('Margin of Error:', ME)\n",
    "\n",
    "## We know that the correlation between touchdown passes and sacks is statistically signiificant \n",
    "## because |ME| < |r|."
   ]
  },
  {
   "cell_type": "code",
   "execution_count": 13,
   "metadata": {},
   "outputs": [
    {
     "name": "stdout",
     "output_type": "stream",
     "text": [
      "0.14646464646464646\n"
     ]
    }
   ],
   "source": [
    "## b) Computing the α, the cross-product ratio\n",
    "\n",
    "## alpha = ad / bc\n",
    "alpha = (29 * 2) / (22 * 18)\n",
    "\n",
    "print(alpha)\n",
    "\n",
    "## Interpretation: The odds of Brady throwing three or more touchdown passes is about seven greater if he is \n",
    "## sacked less than three times compared to if he is sacked more than three times"
   ]
  },
  {
   "cell_type": "code",
   "execution_count": 14,
   "metadata": {},
   "outputs": [
    {
     "name": "stdout",
     "output_type": "stream",
     "text": [
      "-0.7444933920704847\n"
     ]
    }
   ],
   "source": [
    "## c) Computing the Q, Yule’s Q\n",
    "\n",
    "## yules = (alpha - 1) / (alpha + 1)\n",
    "\n",
    "yules = (alpha - 1) / (alpha + 1)\n",
    "\n",
    "print(yules)\n",
    "\n",
    "## There is a strong negative relationship between number of sacks and number of touchdown passes."
   ]
  }
 ],
 "metadata": {
  "kernelspec": {
   "display_name": "Python 3",
   "language": "python",
   "name": "python3"
  },
  "language_info": {
   "codemirror_mode": {
    "name": "ipython",
    "version": 3
   },
   "file_extension": ".py",
   "mimetype": "text/x-python",
   "name": "python",
   "nbconvert_exporter": "python",
   "pygments_lexer": "ipython3",
   "version": "3.8.3"
  }
 },
 "nbformat": 4,
 "nbformat_minor": 4
}
