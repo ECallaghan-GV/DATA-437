{
 "cells": [
  {
   "cell_type": "markdown",
   "metadata": {},
   "source": [
    "# In-Class Assignment 8 - Evan Callaghan\n",
    "\n",
    "### 1. Stephen Curry is one of the best shooter in the NBA. Suppose that the number of points that Curry scores per game follows a normal distribution with a mean of 24.2 points and a standard deviation of 2 points. Let X denote the number of points that Curry scores in a game.\n",
    "\n",
    "### a) Write the distribution of X.\n",
    "\n",
    "#### X ~ N(24.2, 2)\n",
    "\n",
    "### b) Find the probability that Curry scores more than 26 points in a game\n",
    "\n",
    "#### P(X > 26) = 1 - pnorm(26, 24.2, 2) = 0.184\n",
    "\n",
    "### c) Find the probability that Curry scores less than 24 points in a game\n",
    "\n",
    "#### P(X < 24) = pnorm(24, 24.2, 2) = 0.460\n",
    "\n",
    "### d) Find the probability that Curry scores 25 points in a game\n",
    "\n",
    "#### P(X = 25) = 0\n",
    "\n",
    "### 2. Tom Brady is one of the best Quarter Back in the NFL history. Suppose that the number of touchdowns passes that Brady scores per game follows a normal distribution with a mean of 2.7 passes and a standard deviation of 1 pass. Let X denote the number of touch-down passes that Brady scores in a game.\n",
    "\n",
    "### a)  Write the distribution of X\n",
    "\n",
    "#### X ~ N(2.7, 1)\n",
    "\n",
    "### b) Find the probability that Brady scores more than 3 touch-down passes in a game\n",
    "\n",
    "#### P(X > 3) = 1 - pnorm(3, 2.7, 1) = 0.382\n",
    "\n",
    "### c) Find the probability that Brady scores less than 2 touch-down passes in a game\n",
    "\n",
    "#### P(X < 2) = pnorm(2, 2.7, 1) = 0.242"
   ]
  }
 ],
 "metadata": {
  "kernelspec": {
   "display_name": "Python 3",
   "language": "python",
   "name": "python3"
  },
  "language_info": {
   "codemirror_mode": {
    "name": "ipython",
    "version": 3
   },
   "file_extension": ".py",
   "mimetype": "text/x-python",
   "name": "python",
   "nbconvert_exporter": "python",
   "pygments_lexer": "ipython3",
   "version": "3.8.3"
  }
 },
 "nbformat": 4,
 "nbformat_minor": 4
}
