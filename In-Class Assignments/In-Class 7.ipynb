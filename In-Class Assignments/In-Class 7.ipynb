{
 "cells": [
  {
   "cell_type": "markdown",
   "metadata": {},
   "source": [
    "# In-Class Assignment 7 - Evan Callaghan\n",
    "\n",
    "### 1. In the 2018-2019 NBA season, the Golden State Warriors won 57 out of 82 games, which is a 70% likelihood of winning. Using this information, the Golden State Warriors plays the five games of the 2019-2020 season. Assuming that the outcomes of the games are independent from each other. Let X denote the number of games that the Golden State Warriors wins in the first five games of the 2019-2020 season.\n",
    "\n",
    "### a)  Write the distribution of X\n",
    "\n",
    "#### X ~ Bin(5, 0.7)\n",
    "\n",
    "### b) Find the probability that the Golden State Warriors wins 4 out of the 5 first games in the 2019-2020 season. \n",
    "\n",
    "#### P(X=k) = (nCk) pi^(k) (1-pi)^(n-k)\n",
    "#### P(X=4) = (5C4) 0.7^(4) (1-0.7)^(5-4) = 0.36\n",
    "\n",
    "### c) Find the E(X).\n",
    "\n",
    "#### E(X) = (n)(pi) = 5(0.7) = 3.5\n",
    "\n",
    "### d) Find the Var(X).\n",
    "\n",
    "#### Var(X) = n(pi)(1-pi) = 5(0.7)(1-0.7) = 1.05\n",
    "\n",
    "### 2. In the 2018-2019 NHL season, the Colorado Avalanche won 38 out of 82 games, which is a 46% likelihood of winning. Using this information, the Colorado Avalanche plays the first three games of the 2019-2020 season. Assuming that the outcomes of the games are independent from each other. Let X denote the number of games that the Colorado Avalanche wins in the first three games in the 2019-2020 season.\n",
    "\n",
    "### a) Write the distribution of X\n",
    "\n",
    "#### X ~ Bin(3, 0.46)\n",
    "\n",
    "### b) Find the probability that the Colorado Avalanche wind 2 out of the 3 first games in the 2019-2020 season.\n",
    "\n",
    "#### P(X=k) = (nCk) pi^(k) (1-pi)^(n-k)\n",
    "#### P(X=2) = (3C2) 0.46^(2) (1-0.46)^(3-2) = 0.34\n",
    "\n",
    "### c) Find the E(X).\n",
    "\n",
    "#### E(X) = (n)(pi) = 3(0.46) = 1.38\n",
    "\n",
    "### d) Find the SD(X).\n",
    "\n",
    "#### SD(X) = sqrt(n(pi)(1-pi)) = sqrt(3(0.46)(1-0.46) = 0.86"
   ]
  }
 ],
 "metadata": {
  "kernelspec": {
   "display_name": "Python 3",
   "language": "python",
   "name": "python3"
  },
  "language_info": {
   "codemirror_mode": {
    "name": "ipython",
    "version": 3
   },
   "file_extension": ".py",
   "mimetype": "text/x-python",
   "name": "python",
   "nbconvert_exporter": "python",
   "pygments_lexer": "ipython3",
   "version": "3.8.3"
  }
 },
 "nbformat": 4,
 "nbformat_minor": 4
}
