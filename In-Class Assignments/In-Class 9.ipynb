{
 "cells": [
  {
   "cell_type": "code",
   "execution_count": 1,
   "metadata": {},
   "outputs": [],
   "source": [
    "## In-Class Assignment 9 - Evan Callaghan\n",
    "\n",
    "import pandas as pd\n",
    "import numpy as np\n",
    "\n",
    "## a) Using the pandas library to read both csv files and create two data-frames\n",
    "\n",
    "durant = pd.read_csv('Durant_2011_2012.csv')\n",
    "james = pd.read_csv('James_2011_2012.csv')"
   ]
  },
  {
   "cell_type": "code",
   "execution_count": 3,
   "metadata": {},
   "outputs": [
    {
     "name": "stdout",
     "output_type": "stream",
     "text": [
      "Durant average rebounds: 7.984848484848484\n",
      "James average rebounds: 7.935483870967742\n"
     ]
    }
   ],
   "source": [
    "## b)  Reporting the average rebound for both player in the 2011-2012 NBA season\n",
    "\n",
    "print('Durant average rebounds:', durant['REB'].mean())\n",
    "\n",
    "print('James average rebounds:', james['REB'].mean())\n",
    "\n",
    "\n",
    "## Kevin Durant has the higher average rebounds."
   ]
  },
  {
   "cell_type": "code",
   "execution_count": 5,
   "metadata": {},
   "outputs": [
    {
     "name": "stdout",
     "output_type": "stream",
     "text": [
      "Durant Margin of Error: 0.7448250985914079\n",
      "James Margin of Error: 0.6927454676156545\n"
     ]
    }
   ],
   "source": [
    "## c) Reporting the margin of error the average rebound estimation of both players\n",
    "\n",
    "durant_moe = (2 * durant['REB'].std()) / np.sqrt(durant.shape[0])\n",
    "\n",
    "james_moe = (2 * james['REB'].std()) / np.sqrt(james.shape[0])\n",
    "\n",
    "print('Durant Margin of Error:', durant_moe)\n",
    "print('James Margin of Error:', james_moe)\n",
    "\n",
    "## Kevin Durant has the bigger margin or error, indicating a higher level of uncertainty."
   ]
  }
 ],
 "metadata": {
  "kernelspec": {
   "display_name": "Python 3",
   "language": "python",
   "name": "python3"
  },
  "language_info": {
   "codemirror_mode": {
    "name": "ipython",
    "version": 3
   },
   "file_extension": ".py",
   "mimetype": "text/x-python",
   "name": "python",
   "nbconvert_exporter": "python",
   "pygments_lexer": "ipython3",
   "version": "3.8.3"
  }
 },
 "nbformat": 4,
 "nbformat_minor": 4
}
